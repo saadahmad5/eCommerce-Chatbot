{
 "cells": [
  {
   "cell_type": "markdown",
   "id": "e3a6ed74",
   "metadata": {},
   "source": [
    "# Chat Bot for an eCommerce Website\n",
    "\n",
    "### Cadillac Lyriq - GM's All-Electric EV related conversational eCommerce chat bot"
   ]
  },
  {
   "cell_type": "markdown",
   "id": "27c2e63f",
   "metadata": {},
   "source": [
    "###### This is just a school project to demonstrate a chat bot which can be used in eCommerce to get some information about a vehicle."
   ]
  },
  {
   "cell_type": "markdown",
   "id": "457bdf66",
   "metadata": {},
   "source": [
    "#### Imports"
   ]
  },
  {
   "cell_type": "code",
   "execution_count": 1,
   "id": "75add15b",
   "metadata": {},
   "outputs": [],
   "source": [
    "import json\n",
    "import numpy as np\n",
    "import torch\n",
    "import torch.nn as nn\n",
    "from torch.utils.data import Dataset, DataLoader\n",
    "import matplotlib.pyplot as plt\n",
    "import nltk\n",
    "from nltk.stem.porter import PorterStemmer"
   ]
  },
  {
   "cell_type": "markdown",
   "id": "4910fa31",
   "metadata": {},
   "source": [
    "#### Functions"
   ]
  },
  {
   "cell_type": "code",
   "execution_count": 2,
   "id": "0f9c646b",
   "metadata": {},
   "outputs": [],
   "source": [
    "def tokenize_into_words(sentence):\n",
    "    return nltk.word_tokenize(sentence)"
   ]
  },
  {
   "cell_type": "code",
   "execution_count": 3,
   "id": "80d2c425",
   "metadata": {},
   "outputs": [],
   "source": [
    "reducer = PorterStemmer()\n",
    "def reduce(word):\n",
    "    return reducer.stem(word.lower())"
   ]
  },
  {
   "cell_type": "code",
   "execution_count": 4,
   "id": "f53af89b",
   "metadata": {},
   "outputs": [],
   "source": [
    "def bag_of_words(tokenized_sentence, words):\n",
    "    words_in_sentences = [reduce(word) for word in tokenized_sentence]\n",
    "    bag_of_words = np.zeros(len(words), dtype=np.float32)\n",
    "    for index, word in enumerate(words):\n",
    "        if word in words_in_sentences: \n",
    "            bag_of_words[index] = 1\n",
    "    return bag_of_words"
   ]
  },
  {
   "cell_type": "markdown",
   "id": "002bcd89",
   "metadata": {},
   "source": [
    "#### Reading from the data source (in JSON format)"
   ]
  },
  {
   "cell_type": "code",
   "execution_count": 5,
   "id": "34023adc",
   "metadata": {},
   "outputs": [],
   "source": [
    "file = open('lyriq-data.json')\n",
    "vehicle = json.load(file)\n",
    "file.close()"
   ]
  },
  {
   "cell_type": "code",
   "execution_count": 6,
   "id": "8b404c18",
   "metadata": {},
   "outputs": [],
   "source": [
    "# See the JSON content\n",
    "# vehicle['vehicleConfigurations']"
   ]
  },
  {
   "cell_type": "markdown",
   "id": "a2d355ee",
   "metadata": {},
   "source": [
    "#### Classes"
   ]
  },
  {
   "cell_type": "code",
   "execution_count": 7,
   "id": "d12a4bb4",
   "metadata": {},
   "outputs": [],
   "source": [
    "class Neural_Network(nn.Module):\n",
    "    def __init__(self, n_input, n_output ,n_hidden):\n",
    "        super(Neural_Network, self).__init__()\n",
    "        self.relu = nn.ReLU()\n",
    "        self.l1 = nn.Linear(n_input, n_hidden) \n",
    "        self.l2 = nn.Linear(n_hidden, n_hidden) \n",
    "        self.l3 = nn.Linear(n_hidden, n_output)\n",
    "    \n",
    "    def forward(self, x):\n",
    "        o = self.l1(x)\n",
    "        o = self.relu(o)\n",
    "        o = self.l2(o)\n",
    "        o = self.relu(o)\n",
    "        o = self.l3(o)\n",
    "        return o"
   ]
  },
  {
   "cell_type": "code",
   "execution_count": 8,
   "id": "0511279d",
   "metadata": {},
   "outputs": [],
   "source": [
    "class ChatBot_Dataset(Dataset):\n",
    "    def __init__(self):\n",
    "        self.x_data = x_training\n",
    "        self.y_data = y_training\n",
    "        self.n_samples = len(self.x_data)\n",
    "\n",
    "    def __getitem__(self, index):\n",
    "        return self.x_data[index], self.y_data[index]\n",
    "\n",
    "    def __len__(self):\n",
    "        return self.n_samples"
   ]
  },
  {
   "cell_type": "markdown",
   "id": "16a81a79",
   "metadata": {},
   "source": [
    "#### Decorating Data for the Model"
   ]
  },
  {
   "cell_type": "code",
   "execution_count": 9,
   "id": "d34ac13e",
   "metadata": {},
   "outputs": [],
   "source": [
    "complete_words_list = []\n",
    "types = []\n",
    "product = []\n",
    "for config in vehicle['vehicleConfigurations']:\n",
    "    type_ = config['type']\n",
    "    types.append(type_)\n",
    "    for question in config['questions']:\n",
    "        tokenized_words = tokenize_into_words(question)\n",
    "        complete_words_list.extend(tokenized_words)\n",
    "        product.append((tokenized_words, type_))\n",
    "        \n",
    "characters_to_ignore = [',', '/','&', '!', '.', '(', ')', '-', '?']\n",
    "complete_words_list = [reduce(word) for word in complete_words_list if word not in characters_to_ignore]\n",
    "\n",
    "complete_words_list = sorted(set(complete_words_list))\n",
    "types = sorted(set(types))"
   ]
  },
  {
   "cell_type": "markdown",
   "id": "b6b00ebd",
   "metadata": {},
   "source": [
    "#### Getting Started with Training"
   ]
  },
  {
   "cell_type": "code",
   "execution_count": 10,
   "id": "a6cb1ba9",
   "metadata": {},
   "outputs": [],
   "source": [
    "x_training = []\n",
    "y_training = []\n",
    "\n",
    "for (sentence, type_) in product:\n",
    "    bag_with_words = bag_of_words(sentence, complete_words_list)\n",
    "    x_training.append(bag_with_words)\n",
    "    output_label = types.index(type_)\n",
    "    y_training.append(output_label)\n",
    "\n",
    "x_training = np.array(x_training)\n",
    "y_training = np.array(y_training)"
   ]
  },
  {
   "cell_type": "markdown",
   "id": "83b6f3c2",
   "metadata": {},
   "source": [
    "#### Setting up Model/ Training configuration"
   ]
  },
  {
   "cell_type": "code",
   "execution_count": 11,
   "id": "c4deb05c",
   "metadata": {},
   "outputs": [
    {
     "name": "stdout",
     "output_type": "stream",
     "text": [
      "104 11\n"
     ]
    }
   ],
   "source": [
    "number_of_epochs = 7000\n",
    "batch_size = 8\n",
    "n_hidden = 8\n",
    "learning_rate = 0.01\n",
    "n_input = len(x_training[0])\n",
    "n_output = len(types)"
   ]
  },
  {
   "cell_type": "markdown",
   "id": "d32f49fe",
   "metadata": {},
   "source": [
    "#### PyTorch Training Implementation"
   ]
  },
  {
   "cell_type": "code",
   "execution_count": 12,
   "id": "a19a3d4f",
   "metadata": {},
   "outputs": [
    {
     "name": "stdout",
     "output_type": "stream",
     "text": [
      "Epoch: 0/7000 Loss: 2.3653626441955566\n",
      "Epoch: 500/7000 Loss: 0.8441026210784912\n",
      "Epoch: 1000/7000 Loss: 0.14575713872909546\n",
      "Epoch: 1500/7000 Loss: 0.023494645953178406\n",
      "Epoch: 2000/7000 Loss: 0.008916274644434452\n",
      "Epoch: 2500/7000 Loss: 0.0050338925793766975\n",
      "Epoch: 3000/7000 Loss: 0.003395514329895377\n",
      "Epoch: 3500/7000 Loss: 0.002521499292925\n",
      "Epoch: 4000/7000 Loss: 0.0019842851907014847\n",
      "Epoch: 4500/7000 Loss: 0.0016252989880740643\n",
      "Epoch: 5000/7000 Loss: 0.0013699035625904799\n",
      "Epoch: 5500/7000 Loss: 0.0011796940816566348\n",
      "Epoch: 6000/7000 Loss: 0.0010331124067306519\n",
      "Epoch: 6500/7000 Loss: 0.000918084173463285\n",
      "Training is complete.\n"
     ]
    }
   ],
   "source": [
    "chatbot_dataset = ChatBot_Dataset()\n",
    "device = torch.device('cpu')\n",
    "model = Neural_Network(n_input, n_output, n_hidden).to(device)\n",
    "criteria = nn.CrossEntropyLoss()\n",
    "\n",
    "loss_array = []\n",
    "for epoch in range(number_of_epochs):\n",
    "    for (features, responses) in DataLoader(dataset = chatbot_dataset, \n",
    "                                            batch_size = batch_size, \n",
    "                                            shuffle = False, \n",
    "                                            num_workers = 0):\n",
    "        features = features.to(device)\n",
    "        responses = responses.to(dtype = torch.long).to(device)\n",
    "        responses2 = model(features)\n",
    "        loss = criteria(responses2, responses)\n",
    "        torch.optim.SGD(model.parameters(), lr = learning_rate).zero_grad()\n",
    "        loss.backward()\n",
    "        torch.optim.SGD(model.parameters(), lr = learning_rate).step()\n",
    "        \n",
    "    if (epoch) % 100 == 0:\n",
    "        loss_value = loss.item()\n",
    "        loss_array.append(loss_value)\n",
    "    if (epoch) % 500 == 0:\n",
    "        print (f'Epoch: {epoch}/{number_of_epochs} Loss: {loss_value}')\n",
    "\n",
    "vehicle_data = {\n",
    "\"model\": model.state_dict(),\n",
    "\"n_hidden\": n_hidden,\n",
    "\"complete_words_list\": complete_words_list,\n",
    "\"types\": types,\n",
    "\"n_input\": n_input,\n",
    "\"n_output\": n_output\n",
    "}\n",
    "\n",
    "torch.save(vehicle_data, \"vehicle_data.pth\")\n",
    "print(f'Training is complete.')"
   ]
  },
  {
   "cell_type": "code",
   "execution_count": 13,
   "id": "0661c695",
   "metadata": {},
   "outputs": [
    {
     "name": "stdout",
     "output_type": "stream",
     "text": [
      "Finally the loss is: 0.000825\n"
     ]
    },
    {
     "data": {
      "image/png": "[encoded data removed]",
      "text/plain": [
       "<Figure size 432x288 with 1 Axes>"
      ]
     },
     "metadata": {
      "needs_background": "light"
     },
     "output_type": "display_data"
    }
   ],
   "source": [
    "print(f'Finally the loss is: {loss.item():.6f}')\n",
    "plt.plot(loss_array)\n",
    "plt.ylabel('Loss')\n",
    "plt.xlabel('epoch x 100')\n",
    "plt.show()"
   ]
  },
  {
   "cell_type": "markdown",
   "id": "5cea485f",
   "metadata": {},
   "source": [
    "#### Chat Bot Interface"
   ]
  },
  {
   "cell_type": "code",
   "execution_count": 14,
   "id": "f9bb990e",
   "metadata": {},
   "outputs": [
    {
     "name": "stdout",
     "output_type": "stream",
     "text": [
      "Welcome to Saad's ChatBot! (type 'quit' to exit)\n",
      "Please ask me any questions related to Cadillac's All Electric new EV!\n",
      "Type in ['thanks', 'thank you', 'bye', 'exit'] to close the chatbot!\n",
      "Your Question: What is the total system output?\n",
      "GM Assistant:  It has a single permanent motor producing 325 lb.-ft of torque (equivalent to 440Nm).\n",
      "\n",
      "Your Question: How fast is 0 to 60?\n",
      "GM Assistant:  Its instant acceleration can bring 0 to 60 MPH in about 3 seconds.\n",
      "\n",
      "Your Question: How many people can be seated?\n",
      "GM Assistant:  The seating capacity is 5 passengers.\n",
      "\n",
      "Your Question: how fast does it accelerate?\n",
      "GM Assistant:  Its instant acceleration can bring 0 to 60 MPH in about 3 seconds.\n",
      "\n",
      "Your Question: How much is the battery capacity?\n",
      "GM Assistant:  The total capacity of the battery pack is 100kWh.\n",
      "\n",
      "Your Question: Does it has AWD?\n",
      "GM Assistant:  Currently, it comes only in the RWD (Rear Wheel Drive) configuration/ drivetrain.\n",
      "\n",
      "Your Question: Which body styles are available?\n",
      "GM Assistant:  It is a Crossover which is just like a big SUV.\n",
      "\n",
      "Your Question: How big is the battery pack?\n",
      "GM Assistant:  The total capacity of the battery pack is 100kWh.\n",
      "\n",
      "Your Question: How long the battery lasts?\n",
      "GM Assistant:  Maybe you're asking that: The total capacity of the battery pack is 100kWh.\n",
      "\n",
      "Your Question: What are the dimensions of this car?\n",
      "GM Assistant:  The dimensions are 196.7\" L x 86.9\" W x 63.9\" H.\n",
      "\n",
      "Your Question: What levels of chargers does it support?\n",
      "GM Assistant:  It supports Level 1, Level 2, and DC Fast Chargers.\n",
      "\n",
      "Your Question: thank you\n",
      "Thank you for your interest in knowing this vehicle and using the GM Chatbot assistant. Have a great day!\n"
     ]
    }
   ],
   "source": [
    "file_name_from_training = \"vehicle_data.pth\"\n",
    "data = torch.load(file_name_from_training)\n",
    "\n",
    "model = data[\"model\"]\n",
    "n_hidden = data[\"n_hidden\"]\n",
    "complete_words_list = data['complete_words_list']\n",
    "types = data['types']\n",
    "n_input = data[\"n_input\"]\n",
    "n_output = data[\"n_output\"]\n",
    "\n",
    "nn_model = Neural_Network(n_input, n_output, n_hidden).to(device)\n",
    "nn_model.load_state_dict(model)\n",
    "nn_model.eval()\n",
    "\n",
    "print(\"Welcome to Saad's ChatBot! (type 'quit' to exit)\")\n",
    "print(\"Please ask me any questions related to Cadillac's All Electric new EV!\")\n",
    "\n",
    "exit_tokens = ['thanks', 'thank you', 'bye', 'exit']\n",
    "print(f\"Type in {exit_tokens} to close the chatbot!\")\n",
    "\n",
    "sentence = input(\"Your Question: \")\n",
    "while sentence not in exit_tokens:\n",
    "    sentence = tokenize_into_words(sentence)\n",
    "    _input = bag_of_words(sentence, complete_words_list)\n",
    "    _input = _input.reshape(1, _input.shape[0])\n",
    "    _input = torch.from_numpy(_input).to(device)\n",
    "\n",
    "    _output = nn_model(_input)\n",
    "    _, predicted = torch.max(_output, dim=1)\n",
    "\n",
    "    type_ = types[predicted.item()]\n",
    "\n",
    "    probs = torch.softmax(_output, dim=1)\n",
    "    prob = probs[0][predicted.item()]\n",
    "    if prob.item() >= 0.75:\n",
    "        for config in vehicle['vehicleConfigurations']:\n",
    "            if type_ == config[\"type\"]:\n",
    "                print(f\"GM Assistant:  {config['answer']}\")\n",
    "    elif prob.item() >= 0.5:\n",
    "        for config in vehicle['vehicleConfigurations']:\n",
    "            if type_ == config[\"type\"]:\n",
    "                print(f\"GM Assistant:  Maybe you're asking that: {config['answer']}\")\n",
    "    else:\n",
    "        print(f\"GM Assistant:  Sorry, I do not know what you're asking. Please contact the GM representative for this.\")\n",
    "    print()\n",
    "        \n",
    "    sentence = input(\"Your Question: \")\n",
    "print(\"Thank you for your interest in knowing this vehicle and using the GM Chatbot assistant. Have a great day!\")"
   ]
  },
  {
   "cell_type": "code",
   "execution_count": null,
   "id": "1518e907",
   "metadata": {},
   "outputs": [],
   "source": []
  }
 ],
 "metadata": {
  "kernelspec": {
   "display_name": "Python 3 (ipykernel)",
   "language": "python",
   "name": "python3"
  },
  "language_info": {
   "codemirror_mode": {
    "name": "ipython",
    "version": 3
   },
   "file_extension": ".py",
   "mimetype": "text/x-python",
   "name": "python",
   "nbconvert_exporter": "python",
   "pygments_lexer": "ipython3",
   "version": "3.9.7"
  }
 },
 "nbformat": 4,
 "nbformat_minor": 5
}
